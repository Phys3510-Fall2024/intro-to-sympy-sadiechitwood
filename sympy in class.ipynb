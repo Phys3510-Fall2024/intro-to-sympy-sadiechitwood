{
 "cells": [
  {
   "cell_type": "code",
   "execution_count": 11,
   "id": "06f81549-63a5-4baa-bfcf-d61271153033",
   "metadata": {},
   "outputs": [
    {
     "data": {
      "text/plain": [
       "True"
      ]
     },
     "execution_count": 11,
     "metadata": {},
     "output_type": "execute_result"
    }
   ],
   "source": [
    "#import needed modules/libraries --> sympy\n",
    "import sympy as sp\n",
    "\n",
    "\n",
    "#define all needed variable\n",
    "A, B, omega_0, omega_gamma, gamma, t=sp.symbols(\"A, B, omega_0, omega_gamma, gamma, t\",real=True)\n",
    "Q= sp.Function(\"Q\")(t)\n",
    "\n",
    "\n",
    "#define the differential equation as the left-hand side (which must equal 0 when F_0=0)\n",
    "diff_eqn_ref= sp.diff(Q,t,2)+2*gamma*sp.diff(Q,t,1)+(omega_0**2)*Q\n",
    "\n",
    "#define our guess for the solution\n",
    "#Q_tr_guess\n",
    "Q_tr_guess=sp.exp(-gamma*t)*(A*sp.cos(omega_gamma*t)+B*sp.sin(omega_gamma*t))\n",
    "\n",
    "\n",
    "#plug our guess into the differential equation: includes taking the derivs\n",
    "omega_gamma_expr= sp.sqrt(omega_0**2-gamma**2)\n",
    "diff_eqn_test= sp.diff(Q_tr_guess,t,2)+2*gamma*sp.diff(Q_tr_guess,t,1)+(omega_0**2)*Q_tr_guess\n",
    "\n",
    "\n",
    "test_result=diff_eqn_test.subs(omega_gamma, omega_gamma_expr).simplify().is_zero\n",
    "test_result"
   ]
  },
  {
   "cell_type": "markdown",
   "id": "accbd576-c584-4c7f-b8a3-c6fb55b9c45d",
   "metadata": {},
   "source": [
    "## Steady oscillatory system! Deriving the steady solution to the damped, driven harmonic oscillator\n",
    "\n",
    "$Q_st=Ccos(wt-phi)$\n",
    "\n",
    "$C= (F_0/m)/(sqrt((w_0^2-w^2)^2+(2gammaw)^2)$\n",
    "\n",
    "We want to solve \n",
    "\n",
    "$\\ddot{Q}+2\\gamma\\dot{Q}+\\omega_0^2 Q = (F_0/m) e^{i\\omega t} $\n",
    "\n",
    "with \n",
    "\n",
    "$Q= Ce^{i\\omega t} $"
   ]
  },
  {
   "cell_type": "code",
   "execution_count": 23,
   "id": "2a0ac9fc-275b-4273-87af-53ef19b4dd5e",
   "metadata": {},
   "outputs": [
    {
     "data": {
      "text/latex": [
       "$\\displaystyle \\frac{2 F_{0} \\gamma \\omega \\sin{\\left(\\omega t \\right)}}{m \\left(4 \\gamma^{2} \\omega^{2} + \\left(\\omega^{2} - \\omega_{0}^{2}\\right)^{2}\\right)} + \\frac{F_{0} \\left(- \\omega^{2} + \\omega_{0}^{2}\\right) \\cos{\\left(\\omega t \\right)}}{m \\left(4 \\gamma^{2} \\omega^{2} + \\left(\\omega^{2} - \\omega_{0}^{2}\\right)^{2}\\right)}$"
      ],
      "text/plain": [
       "2*F_0*gamma*omega*sin(omega*t)/(m*(4*gamma**2*omega**2 + (omega**2 - omega_0**2)**2)) + F_0*(-omega**2 + omega_0**2)*cos(omega*t)/(m*(4*gamma**2*omega**2 + (omega**2 - omega_0**2)**2))"
      ]
     },
     "execution_count": 23,
     "metadata": {},
     "output_type": "execute_result"
    }
   ],
   "source": [
    "#Plan\n",
    "\n",
    "#import needed modules\n",
    "#define needed variables and functions\n",
    "#define the differential equation\n",
    "#define our guess for the solution\n",
    "#plug in our guess\n",
    "#solve for the coefficient C\n",
    "#find the real part of the solution\n",
    "#plug the real part of the solution into the diff eq\n",
    "#test the alternative, analytic form form of the solution\n",
    "\n",
    "\n",
    "\n",
    "import sympy as sp\n",
    "\n",
    "#define needed variables and functions\n",
    "omega_0, gamma, t, F_0, m,omega =sp.symbols(\"omega_0, gamma, t, F_0, m,omega\",real=True)\n",
    "C= sp.symbols(\"C\", complex=True)\n",
    "Q= sp.Function(\"Q\")(t)\n",
    "F= sp.Function(\"F\")(t)\n",
    "\n",
    "#define the differential equation\n",
    "diff_eqn_ref= sp.Eq(\n",
    "    sp.diff(Q,t,2)+2*gamma*sp.diff(Q,t,1)+(omega_0**2)*Q, #left hand side\n",
    "    F/m #right hand side\n",
    ")\n",
    "\n",
    "#define our guess for the solution\n",
    "Q_st_guess = C*sp.exp(sp.I*omega*t)\n",
    "drive_expr= (F_0/m)*sp.exp(sp.I*omega*t)\n",
    "\n",
    "#plug in our guess\n",
    "diff_eqn_guess= sp.Eq(\n",
    "    sp.diff(Q_st_guess,t,2)+2*gamma*sp.diff(Q_st_guess,t,1)+(omega_0**2)*Q_st_guess, #left hand side\n",
    "    drive_expr #right hand side\n",
    ")\n",
    "#solve for the coefficient C\n",
    "C_sol= sp.solve(diff_eqn_guess, C) [0]\n",
    "\n",
    "sp.re(sp.expand_complex(C_sol*sp.exp(sp.I*omega*t)).simplify()\n",
    "     )"
   ]
  },
  {
   "cell_type": "code",
   "execution_count": null,
   "id": "1bcd982b-5f04-4e0a-81bd-00522be1d38b",
   "metadata": {},
   "outputs": [],
   "source": []
  }
 ],
 "metadata": {
  "kernelspec": {
   "display_name": "Python 3 (ipykernel)",
   "language": "python",
   "name": "python3"
  },
  "language_info": {
   "codemirror_mode": {
    "name": "ipython",
    "version": 3
   },
   "file_extension": ".py",
   "mimetype": "text/x-python",
   "name": "python",
   "nbconvert_exporter": "python",
   "pygments_lexer": "ipython3",
   "version": "3.9.20"
  }
 },
 "nbformat": 4,
 "nbformat_minor": 5
}
