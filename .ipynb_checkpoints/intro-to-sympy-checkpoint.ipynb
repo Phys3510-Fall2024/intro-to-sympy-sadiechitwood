{
 "cells": [
  {
   "cell_type": "markdown",
   "id": "9c011f8e-c91f-4ed2-9aac-7cec86e4a071",
   "metadata": {},
   "source": [
    "# Working in SymPy\n",
    "\n",
    "`SymPy` is a package for symbolic manipulation of expressions, equations, and calculus. The [website](https://docs.sympy.org/latest/index.html) for `SymPy` has tutorials explaining how things work. You can also use the `help()` and `dir()` functions to explore the properties of the `SymPy` package.\n",
    "\n",
    "The way it is structured is that the different mathematical objects are defined with capital letters (e.g. `Symbol`, `Function`, `Matrix`) while the functions and utilities are defined with lower-case leading letters (e.g. `simplify`, `dsolve`)."
   ]
  },
  {
   "cell_type": "markdown",
   "id": "f02f4bb2-26fe-46c7-b8fb-4336f4c2576e",
   "metadata": {},
   "source": [
    "### 1. **Basic Operations**\n",
    "\n",
    "- `symbols()`: Define symbolic variables for expressions.\n",
    "- `subs()`: Substitute values or expressions for variables.\n",
    "- `sympify()`: Convert strings or Python objects to SymPy expressions.\n",
    "- `evalf()`: Evaluate expressions to floating-point numbers.\n",
    "- `lambdify()`: Convert symbolic expressions to numerical functions (supports backends like NumPy and SciPy).\n"
   ]
  },
  {
   "cell_type": "markdown",
   "id": "c273a14c-4628-42e5-8431-0cbd58476e53",
   "metadata": {},
   "source": [
    "### 2. **Simplifying Expressions**\n",
    "\n",
    "- `simplify()`: Simplify general expressions (algebraic, trigonometric, etc.).\n",
    "- `expand()`: Expand an expression (e.g., expand a polynomial or product).\n",
    "- `factor()`: Factor expressions (e.g., factor a polynomial).\n",
    "- `collect()`: Collect like terms in an expression.\n",
    "- `apart()`: Partial fraction decomposition of rational expressions.\n",
    "- `cancel()`: Cancel common factors in a rational function.\n",
    "- `trigsimp()`: Simplify trigonometric expressions.\n",
    "- `logcombine()`: Combine logarithmic terms into a single expression.\n",
    "- `powsimp()`: Simplify powers and exponents.\n"
   ]
  },
  {
   "cell_type": "markdown",
   "id": "17af0651-4cea-4dee-8b50-ff48f9118935",
   "metadata": {},
   "source": [
    "### 3. **Calculus**\n",
    "\n",
    "#### 3.1 Derivatives\n",
    "- `diff()`: Compute derivatives of expressions (supports higher-order derivatives).\n",
    "\n",
    "#### 3.2 Integrals\n",
    "- `integrate()`: Compute symbolic integrals (both definite and indefinite).\n",
    "- `integrate(f, (var, a, b))`: Compute definite integrals over an interval.\n",
    "  \n",
    "#### 3.3 Limits\n",
    "- `limit()`: Compute the limit of an expression as a variable approaches a value.\n",
    "\n",
    "#### 3.4 Series\n",
    "- `series()`: Expand a function in a Taylor or Laurent series around a point.\n"
   ]
  },
  {
   "cell_type": "markdown",
   "id": "87d5dd3d-d260-4df4-a02b-0e3e1525ffde",
   "metadata": {},
   "source": [
    "### 4. **Linear Algebra**\n",
    "\n",
    "- `Matrix()`: Define symbolic matrices.\n",
    "- `det()`: Compute the determinant of a matrix.\n",
    "- `inv()`: Compute the inverse of a matrix.\n",
    "- `eigenvals()`: Compute eigenvalues of a matrix.\n",
    "- `eigenvects()`: Compute eigenvectors of a matrix.\n",
    "- `solve_linear_system()`: Solve a system of linear equations.\n",
    "- `transpose()`: Transpose a matrix.\n",
    "- `rref()`: Compute the reduced row echelon form of a matrix.\n"
   ]
  },
  {
   "cell_type": "markdown",
   "id": "fcdad056-2414-42d9-844a-ed5dd00f58ec",
   "metadata": {},
   "source": [
    "### 5. **Differential Equations**\n",
    "\n",
    "- `dsolve()`: Solve ordinary differential equations (ODEs).\n",
    "- `Function()`: Define a function that represents the solution of a differential equation.\n",
    "- `Eq()`: Set up an equation (useful for defining differential equations).\n",
    "- `classify_ode()`: Classify an ODE to determine its solution method.\n",
    "- `checkodesol()`: Check whether a solution satisfies a given differential equation.\n"
   ]
  },
  {
   "cell_type": "markdown",
   "id": "83afdf77-b9ef-49ac-81cb-8808919406cc",
   "metadata": {},
   "source": [
    "### 6. **Solving Equations**\n",
    "\n",
    "- `solve()`: Solve algebraic equations (returns roots or solutions).\n",
    "- `nonlinsolve()`: Solve systems of nonlinear equations.\n",
    "- `linsolve()`: Solve systems of linear equations.\n",
    "- `solvers.solvers.solve()`: A more general solver for symbolic equations.\n",
    "- `solvers.decomp_ineq()`: Decompose inequalities for solving them.\n"
   ]
  },
  {
   "cell_type": "markdown",
   "id": "d553c212-6c9a-4bae-8f59-eac3f40886b5",
   "metadata": {},
   "source": [
    "### 7. **Polynomials**\n",
    "\n",
    "- `Poly()`: Create a polynomial object for more control over polynomials.\n",
    "- `degree()`: Get the degree of a polynomial.\n",
    "- `roots()`: Find the roots of a polynomial.\n",
    "- `gcd()`: Compute the greatest common divisor of polynomials.\n",
    "- `lcm()`: Compute the least common multiple of polynomials.\n"
   ]
  },
  {
   "cell_type": "markdown",
   "id": "29b03144-71d0-437e-88f1-bdc36b948df3",
   "metadata": {},
   "source": [
    "### 8. **Trigonometry**\n",
    "\n",
    "- `sin()`, `cos()`, `tan()`: Basic trigonometric functions.\n",
    "- `asin()`, `acos()`, `atan()`: Inverse trigonometric functions.\n",
    "- `expand_trig()`: Expand trigonometric expressions (e.g., using angle addition formulas).\n",
    "- `trigsimp()`: Simplify trigonometric expressions.\n",
    "- `rewrite()`: Rewrite trigonometric functions in terms of other functions (e.g., rewrite `sin(x)` in terms of exponential functions).\n"
   ]
  },
  {
   "cell_type": "markdown",
   "id": "00b21f75-b3d3-4452-83b2-c9e95ae4a2ca",
   "metadata": {},
   "source": [
    "### Here's an example of how to solve a quadratic equation"
   ]
  },
  {
   "cell_type": "code",
   "execution_count": 17,
   "id": "1292573a-ec37-405d-b771-6148870a5196",
   "metadata": {},
   "outputs": [
    {
     "data": {
      "text/plain": [
       "[(-b - sqrt(-4*a*c + b**2))/(2*a), (-b + sqrt(-4*a*c + b**2))/(2*a)]"
      ]
     },
     "execution_count": 17,
     "metadata": {},
     "output_type": "execute_result"
    }
   ],
   "source": [
    "import sympy as sp\n",
    "\n",
    "# Define the symbolic variables\n",
    "a, b, c, x = sp.symbols('a b c x')\n",
    "\n",
    "# Define the quadratic equation: ax^2 + bx + c = 0\n",
    "quadratic_eq = sp.Eq(a*x**2 + b*x + c, 0)\n",
    "\n",
    "# Solve the quadratic equation for x\n",
    "solutions = sp.solve(quadratic_eq, x)\n",
    "\n",
    "# Display the solutions\n",
    "solutions\n"
   ]
  },
  {
   "cell_type": "markdown",
   "id": "6f130c0d-870b-4e8e-b398-f4a3ea395e30",
   "metadata": {},
   "source": [
    "### Here's an example of how to solve a differential equation"
   ]
  },
  {
   "cell_type": "code",
   "execution_count": 18,
   "id": "1d908ff4-300b-41da-b3a2-e4b466632edb",
   "metadata": {},
   "outputs": [
    {
     "data": {
      "text/latex": [
       "$\\displaystyle y{\\left(x \\right)} = y_{0} e^{- \\frac{b x}{a}} e^{\\frac{b x_{0}}{a}}$"
      ],
      "text/plain": [
       "Eq(y(x), y0*exp(-b*x/a)*exp(b*x0/a))"
      ]
     },
     "execution_count": 18,
     "metadata": {},
     "output_type": "execute_result"
    }
   ],
   "source": [
    "import sympy as sp\n",
    "\n",
    "# Define the symbolic variables and function\n",
    "x, x0, y0, a, b = sp.symbols('x x0 y0 a b')  # Independent variable, constants, initial condition\n",
    "y = sp.Function('y')(x)  # Dependent variable y as a function of x\n",
    "\n",
    "# Define the first-order differential equation: a*y' + b*y = 0\n",
    "diff_eq = sp.Eq(a * y.diff(x) + b * y, 0)\n",
    "\n",
    "# Solve the differential equation\n",
    "general_solution = sp.dsolve(diff_eq, y)\n",
    "\n",
    "# Extract the solution for y(x)\n",
    "solution_y = general_solution.rhs\n",
    "\n",
    "# Apply the initial condition: y(x0) = y0\n",
    "initial_condition = sp.Eq(solution_y.subs(x, x0), y0)\n",
    "\n",
    "# Solve for the constant C1\n",
    "C1_value = sp.solve(initial_condition, sp.symbols('C1'))[0]\n",
    "\n",
    "# Substitute C1 back into the general solution\n",
    "solution_with_ic = general_solution.subs(sp.symbols('C1'), C1_value)\n",
    "\n",
    "# Display the solution with initial conditions\n",
    "solution_with_ic\n"
   ]
  },
  {
   "cell_type": "markdown",
   "id": "3cc4df62-649e-44a5-8162-29d985bff03d",
   "metadata": {},
   "source": [
    "## Assignment (1): Use `SymPy` to test the solutions we derived in class last week. \n",
    "\n",
    "$Q_{tr} = A cos(\\omega_\\gamma t) + B sin(\\omega_\\gamma t)$\n",
    "\n",
    "and \n",
    "\n",
    "$Q_{st} = \\bar{C} cos(\\omega t - \\phi)$\n",
    "\n",
    "where\n",
    "\n",
    "$\\omega_\\gamma = \\omega_0^2 - \\gamma^2$,\n",
    "\n",
    "$\\bar{C} = \\frac{F_0/m}{\\sqrt{(\\omega_0^2-\\omega^2)^2-4\\gamma^2\\omega^2}}$,\n",
    "\n",
    "and\n",
    "\n",
    "$\\phi = \\frac{2\\gamma\\omega}{\\omega_0^2-\\omega^2}$"
   ]
  },
  {
   "cell_type": "code",
   "execution_count": 4,
   "id": "acbdddf9-70cf-43bf-9fd0-0716bac5cefd",
   "metadata": {},
   "outputs": [
    {
     "data": {
      "text/plain": [
       "True"
      ]
     },
     "execution_count": 4,
     "metadata": {},
     "output_type": "execute_result"
    }
   ],
   "source": [
    "#import needed modules/libraries --> sympy\n",
    "import sympy as sp\n",
    "\n",
    "\n",
    "#define all needed variable\n",
    "A, B, omega_0, omega_gamma, gamma, t=sp.symbols(\"A, B, omega_0, omega_gamma, gamma, t\",real=True)\n",
    "Q= sp.Function(\"Q\")(t)\n",
    "\n",
    "\n",
    "#define the differential equation as the left-hand side (which must equal 0 when F_0=0)\n",
    "diff_eqn_ref= sp.diff(Q,t,2)+2*gamma*sp.diff(Q,t,1)+(omega_0**2)*Q\n",
    "\n",
    "#define our guess for the solution\n",
    "#Q_tr_guess\n",
    "Q_tr_guess=sp.exp(-gamma*t)*(A*sp.cos(omega_gamma*t)+B*sp.sin(omega_gamma*t))\n",
    "\n",
    "\n",
    "#plug our guess into the differential equation: includes taking the derivs\n",
    "omega_gamma_expr= sp.sqrt(omega_0**2-gamma**2)\n",
    "diff_eqn_test= sp.diff(Q_tr_guess,t,2)+2*gamma*sp.diff(Q_tr_guess,t,1)+(omega_0**2)*Q_tr_guess\n",
    "\n",
    "\n",
    "test_result=diff_eqn_test.subs(omega_gamma, omega_gamma_expr).simplify().is_zero\n",
    "test_result"
   ]
  },
  {
   "cell_type": "code",
   "execution_count": 16,
   "id": "b1956e51-9e1a-4c0e-9758-29f246c0cb32",
   "metadata": {},
   "outputs": [
    {
     "data": {
      "text/plain": [
       "(F_0*(-omega**2 + omega_0**2)*cos(omega*t)/(m*(4*gamma**2*omega**2 + (omega**2 - omega_0**2)**2)),\n",
       " None)"
      ]
     },
     "execution_count": 16,
     "metadata": {},
     "output_type": "execute_result"
    }
   ],
   "source": [
    "#Plan\n",
    "\n",
    "#import needed modules\n",
    "#define needed variables and functions\n",
    "#define the differential equation\n",
    "#define our guess for the solution\n",
    "#plug in our guess\n",
    "#solve for the coefficient C\n",
    "#find the real part of the solution\n",
    "#plug the real part of the solution into the diff eq\n",
    "#test the alternative, analytic form form of the solution\n",
    "\n",
    "\n",
    "import sympy as sp\n",
    "\n",
    "# define needed variables and functions\n",
    "omega_0, gamma, t, F_0, m, omega = sp.symbols(\"omega_0 gamma t F_0 m omega\", real=True)\n",
    "C = sp.symbols(\"C\", complex=True)\n",
    "Q = sp.Function(\"Q\")(t)\n",
    "\n",
    "# define the differential equation (without the driving force term, assuming F_0 = 0)\n",
    "diff_eqn_ref = sp.diff(Q, t, 2) + 2 * gamma * sp.diff(Q, t, 1) + (omega_0 ** 2) * Q\n",
    "\n",
    "# define our guess for the solution\n",
    "Q_st_guess = C * sp.exp(sp.I * omega * t)\n",
    "drive_expr = (F_0 / m) * sp.exp(sp.I * omega * t)\n",
    "drive_real = sp.re(drive_expr)\n",
    "\n",
    "# plug our guess into the differential equation\n",
    "diff_eqn_guess = sp.diff(Q_st_guess, t, 2) + 2 * gamma * sp.diff(Q_st_guess, t, 1) + (omega_0 ** 2) * Q_st_guess\n",
    "\n",
    "# solve for C\n",
    "C_sol = sp.solve(diff_eqn_guess, C)[0]\n",
    "\n",
    "# find the real part of the solution\n",
    "Q_sol = sp.re(sp.expand_complex(C_sol * sp.exp(sp.I * omega * t)).simplify())\n",
    "\n",
    "# verify if the real part satisfies the differential equation\n",
    "final_sol = sp.Eq(\n",
    "    sp.diff(Q_sol, t, 2) + 2 * gamma * sp.diff(Q_sol, t, 1) + (omega_0 ** 2) * Q_sol,  # Left-hand side\n",
    "    drive_real  # Right-hand side (real part of driving force)\n",
    ")\n",
    "\n",
    "# simplify and test if the final equation holds (i.e., it simplifies to 0)\n",
    "test_result = final_sol.simplify().is_zero\n",
    "\n",
    "# output the solution and test result\n",
    "Q_sol, test_result\n",
    "\n"
   ]
  },
  {
   "cell_type": "markdown",
   "id": "7abe929c-4ca7-4690-84b6-216369e0c4a1",
   "metadata": {},
   "source": [
    "## Assignment (2): Create representative plots of $\\bar{C}$ and $\\phi$ \n"
   ]
  },
  {
   "cell_type": "code",
   "execution_count": null,
   "id": "fa807cb1-d940-4d81-a6a2-f07ccfc31bb0",
   "metadata": {},
   "outputs": [],
   "source": []
  }
 ],
 "metadata": {
  "kernelspec": {
   "display_name": "Python 3 (ipykernel)",
   "language": "python",
   "name": "python3"
  },
  "language_info": {
   "codemirror_mode": {
    "name": "ipython",
    "version": 3
   },
   "file_extension": ".py",
   "mimetype": "text/x-python",
   "name": "python",
   "nbconvert_exporter": "python",
   "pygments_lexer": "ipython3",
   "version": "3.9.20"
  }
 },
 "nbformat": 4,
 "nbformat_minor": 5
}
